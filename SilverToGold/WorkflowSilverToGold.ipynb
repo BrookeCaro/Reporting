{
 "cells": [
  {
   "cell_type": "code",
   "execution_count": 0,
   "metadata": {
    "application/vnd.databricks.v1+cell": {
     "cellMetadata": {
      "byteLimit": 2048000,
      "implicitDf": true,
      "rowLimit": 10000
     },
     "inputWidgets": {},
     "nuid": "c7a41459-a612-4abd-ab3e-74c5a6f4cf1f",
     "showTitle": false,
     "tableResultSettingsMap": {},
     "title": ""
    }
   },
   "outputs": [],
   "source": [
    "%sql\n",
    "\n",
    "create table gold.workflow as\n",
    "\n",
    "select \n",
    "--fact data\n",
    "PolicyNumber\n",
    ",workflowHistoryTaskID\n",
    ",workflowhistoryID\n",
    ",fileID\n",
    ",documentID\n",
    ",fpolDepartmentID as ProductionDepartmentID\n",
    ",ResponsibleDepartmentId\n",
    ",companyID\n",
    ",effectiveDate\n",
    ",expirationDate\n",
    ",initiated as DateAvailable\n",
    ",workflowID\n",
    ",workflowStepID\n",
    ",dueDate\n",
    ",dueDateDate\n",
    ",agencyContactID\n",
    ",completed\n",
    ",agencyID as agencyCode\n",
    ",assignedToUserID\n",
    ",completedByUserID\n",
    ",excludedFromMaster\n",
    ",coalesce(srRegionid, fileRegionID) as RegionID\n",
    ",dv.divisionid\n",
    ",bu.id as businessUnitID\n",
    "--Dim Data\n",
    ",fileNumber\n",
    ",companyName\n",
    ",workflowName\n",
    ",stepName\n",
    ",regionName\n",
    ",fileName as ApplicantsName\n",
    ",taskNote\n",
    ",completedStatus\n",
    ",agencyName\n",
    ",assignedToUserName\n",
    ",completedByUserName\n",
    ",locked\n",
    ",completedOrPending\n",
    ",agencyState\n",
    ",rdep.departmentname as responsibleDepartmentName\n",
    ",pdep.departmentname as ProductionDepartmentName\n",
    ",dv.division as divisionName\n",
    ",bu.BusinessUnit as businessUnitName\n",
    "\n",
    "from silver.workflow \n",
    "left join bronze.tb_shared_departments_spark pdep on fpoldepartmentid=pdep.departmentid\n",
    "left join bronze.tb_shared_departments_spark rdep on responsibledepartmentid = rdep.departmentid\n",
    "LEFT JOIN bronze.tb_shared_divisions_spark dv\n",
    "       ON dv.divisionid = pdep.divisionid\n",
    "LEFT JOIN bronze.tb_shared_businessunits_spark bu ON bu.id = dv.businessunitid;\n"
   ]
  }
 ],
 "metadata": {
  "application/vnd.databricks.v1+notebook": {
   "computePreferences": null,
   "dashboards": [],
   "environmentMetadata": {
    "base_environment": "",
    "environment_version": "2"
   },
   "inputWidgetPreferences": null,
   "language": "python",
   "notebookMetadata": {
    "mostRecentlyExecutedCommandWithImplicitDF": {
     "commandId": 5179327222347094,
     "dataframes": [
      "_sqldf"
     ]
    },
    "pythonIndentUnit": 4
   },
   "notebookName": "WorkflowSilverToGold",
   "widgets": {}
  },
  "language_info": {
   "name": "python"
  }
 },
 "nbformat": 4,
 "nbformat_minor": 0
}
