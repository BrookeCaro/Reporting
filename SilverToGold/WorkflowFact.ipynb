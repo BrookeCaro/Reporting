{
 "cells": [
  {
   "cell_type": "code",
   "execution_count": 0,
   "metadata": {
    "application/vnd.databricks.v1+cell": {
     "cellMetadata": {
      "byteLimit": 2048000,
      "implicitDf": true,
      "rowLimit": 10000
     },
     "inputWidgets": {},
     "nuid": "c7a41459-a612-4abd-ab3e-74c5a6f4cf1f",
     "showTitle": false,
     "tableResultSettingsMap": {},
     "title": ""
    }
   },
   "outputs": [],
   "source": [
    "%sql\n",
    "\n",
    "\n",
    "select *,\n",
    "CASE WHEN WorkflowStepID = 60 THEN coalesce(uuDepartmentID,cuDepartmentID, fpolDepartmentID)\n",
    "\t\tELSE CASE\n",
    "\t\t\t when completed IS NOT NULL and\n",
    "                    case when .DepartmentType = 'assigneddepartment' THEN fpolDepartmentID\n",
    "                    when .DepartmentType != 'assigneddepartment' then isnull(ResponsibleDepartmentId,fpolDepartmentID) \n",
    "                    End is not null\n",
    "            then\n",
    "                    case when DepartmentType = 'assigneddepartment' THEN fpolDepartmentID\n",
    "                    when .DepartmentType != 'assigneddepartment' then isnull(ResponsibleDepartmentId,fpolDepartmentID) \n",
    "                    End\n",
    "end as ResponsibleDepartmentId\n",
    "from bronze.workflowfact;\n"
   ]
  },
  {
   "cell_type": "code",
   "execution_count": 0,
   "metadata": {
    "application/vnd.databricks.v1+cell": {
     "cellMetadata": {
      "byteLimit": 2048000,
      "implicitDf": true,
      "rowLimit": 10000
     },
     "inputWidgets": {},
     "nuid": "094992f9-804a-4dff-82ed-085f06d4530a",
     "showTitle": false,
     "tableResultSettingsMap": {},
     "title": ""
    }
   },
   "outputs": [],
   "source": [
    "%sql\n",
    "drop table bronze.workflowfact;"
   ]
  }
 ],
 "metadata": {
  "application/vnd.databricks.v1+notebook": {
   "computePreferences": null,
   "dashboards": [],
   "environmentMetadata": {
    "base_environment": "",
    "environment_version": "2"
   },
   "inputWidgetPreferences": null,
   "language": "python",
   "notebookMetadata": {
    "mostRecentlyExecutedCommandWithImplicitDF": {
     "commandId": 8168718891889282,
     "dataframes": [
      "_sqldf"
     ]
    },
    "pythonIndentUnit": 4
   },
   "notebookName": "WorkflowFact",
   "widgets": {}
  },
  "language_info": {
   "name": "python"
  }
 },
 "nbformat": 4,
 "nbformat_minor": 0
}
