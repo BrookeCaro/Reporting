{
 "cells": [
  {
   "cell_type": "markdown",
   "metadata": {
    "application/vnd.databricks.v1+cell": {
     "cellMetadata": {},
     "inputWidgets": {},
     "nuid": "98b8dd2f-c73d-401e-aa83-410aece92b13",
     "showTitle": false,
     "tableResultSettingsMap": {},
     "title": ""
    }
   },
   "source": [
    "Silver to Gold Workflow"
   ]
  },
  {
   "cell_type": "code",
   "execution_count": 0,
   "metadata": {
    "application/vnd.databricks.v1+cell": {
     "cellMetadata": {
      "byteLimit": 2048000,
      "rowLimit": 10000
     },
     "inputWidgets": {},
     "nuid": "84351f47-8e46-46ce-be5f-79c26d5171d5",
     "showTitle": false,
     "tableResultSettingsMap": {},
     "title": ""
    }
   },
   "outputs": [],
   "source": [
    "import dlt\n",
    "from pyspark.sql.functions import *\n",
    "query = spark.sql('''select \n",
    "--fact data\n",
    "PolicyNumber\n",
    ",workflowHistoryTaskID\n",
    ",workflowhistoryID\n",
    ",fileID\n",
    ",documentID\n",
    ",fpolDepartmentID as ProductionDepartmentID\n",
    ",ResponsibleDepartmentId\n",
    ",companyID\n",
    ",effectiveDate\n",
    ",expirationDate\n",
    ",initiated as DateAvailable\n",
    ",workflowID\n",
    ",workflowStepID\n",
    ",dueDate\n",
    ",dueDateDate\n",
    ",agencyContactID\n",
    ",completed\n",
    ",agencyID as agencyCode\n",
    ",assignedToUserID\n",
    ",completedByUserID\n",
    ",excludedFromMaster\n",
    ",coalesce(srRegionid, fileRegionID) as RegionID\n",
    ",dv.divisionid\n",
    ",bu.id as businessUnitID\n",
    ",DaysTakenToComplete\n",
    "--Dim Data\n",
    ",fileNumber\n",
    ",companyName\n",
    ",workflowName\n",
    ",stepName\n",
    ",regionName\n",
    ",fileName as ApplicantsName\n",
    ",taskNote\n",
    ",completedStatus\n",
    ",agencyName\n",
    ",assignedToUserName\n",
    ",completedByUserName\n",
    ",locked\n",
    ",completedOrPending\n",
    ",agencyState\n",
    ",rdep.departmentname as responsibleDepartmentName\n",
    ",pdep.departmentname as ProductionDepartmentName\n",
    ",dv.division as divisionName\n",
    ",bu.BusinessUnit as businessUnitName\n",
    "\n",
    "from dev.silver_dbmars.workflow \n",
    "left join dev.bronze_dbmars_dbo.tb_shared_departments pdep on fpoldepartmentid=pdep.departmentid\n",
    "left join dev.bronze_dbmars_dbo.tb_shared_departments rdep on responsibledepartmentid = rdep.departmentid\n",
    "LEFT JOIN dev.bronze_dbmars_dbo.tb_shared_divisions dv\n",
    "       ON dv.divisionid = pdep.divisionid\n",
    "LEFT JOIN dev.bronze_dbmars_dbo.tb_shared_businessunits bu ON bu.id = dv.businessunitid''')\n",
    "\n",
    "@dlt.table(\n",
    "  comment=\"gold workflow\"\n",
    ")\n",
    "def Workflow():\n",
    "    return query"
   ]
  }
 ],
 "metadata": {
  "application/vnd.databricks.v1+notebook": {
   "computePreferences": null,
   "dashboards": [],
   "environmentMetadata": {
    "base_environment": "",
    "environment_version": "2"
   },
   "inputWidgetPreferences": null,
   "language": "python",
   "notebookMetadata": {
    "mostRecentlyExecutedCommandWithImplicitDF": {
     "commandId": 5179327222347094,
     "dataframes": [
      "_sqldf"
     ]
    },
    "pythonIndentUnit": 4
   },
   "notebookName": "Workflow",
   "widgets": {}
  },
  "language_info": {
   "name": "python"
  }
 },
 "nbformat": 4,
 "nbformat_minor": 0
}
