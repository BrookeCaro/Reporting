{
 "cells": [
  {
   "cell_type": "markdown",
   "metadata": {
    "application/vnd.databricks.v1+cell": {
     "cellMetadata": {},
     "inputWidgets": {},
     "nuid": "c0e1097d-0453-47f7-be34-35f4fd8ac17a",
     "showTitle": false,
     "tableResultSettingsMap": {},
     "title": ""
    }
   },
   "source": [
    " Connection Info"
   ]
  },
  {
   "cell_type": "code",
   "execution_count": 0,
   "metadata": {
    "application/vnd.databricks.v1+cell": {
     "cellMetadata": {
      "byteLimit": 2048000,
      "rowLimit": 10000
     },
     "inputWidgets": {},
     "nuid": "15e571e9-049c-409b-b260-e6b6f8831298",
     "showTitle": false,
     "tableResultSettingsMap": {},
     "title": ""
    }
   },
   "outputs": [],
   "source": [
    "driver=\"com.microsoft.sqlserver.jdbc.SQLServerDriver\"\n",
    "database_host=\"sqldb-prod-east.database.windows.net\"\n",
    "database_port=\"1433\"\n",
    "database_name=\"db_Mars\"\n",
    "\n",
    "driver=\"com.microsoft.sqlserver.jdbc.SQLServerDriver\"\n",
    "\n",
    "database_user=\"marssqladmin\"\n",
    "database_password= \"2FQdcntxIIx$RoPQz21y\"\n",
    "url = f\"jdbc:sqlserver://{database_host}:{database_port};database={database_name}\""
   ]
  },
  {
   "cell_type": "markdown",
   "metadata": {
    "application/vnd.databricks.v1+cell": {
     "cellMetadata": {},
     "inputWidgets": {},
     "nuid": "531d3b1f-df04-43cb-9cf0-e1ace91cc20b",
     "showTitle": false,
     "tableResultSettingsMap": {},
     "title": ""
    }
   },
   "source": [
    "Run SP in azure sql database db_mars to grab cdc data from now and last run."
   ]
  },
  {
   "cell_type": "code",
   "execution_count": 0,
   "metadata": {
    "application/vnd.databricks.v1+cell": {
     "cellMetadata": {
      "byteLimit": 2048000,
      "rowLimit": 10000
     },
     "inputWidgets": {},
     "nuid": "38aac57c-7df5-41f5-9bfd-75baac104dba",
     "showTitle": false,
     "tableResultSettingsMap": {},
     "title": ""
    }
   },
   "outputs": [],
   "source": [
    "driver_manager = spark._sc._gateway.jvm.java.sql.DriverManager\n",
    "#driver_manager = spark.sparkContext._gateway.jvm.java.sql.DriverManager\n",
    "connection = driver_manager.getConnection(url, database_user, database_password)\n",
    "\n",
    "stmt = connection.prepareCall(\"EXEC staging_cdc.sp_Update_StagingTables\")\n",
    "stmt.execute()\n",
    "\n",
    "stmt.close()\n",
    "connection.close()\n"
   ]
  },
  {
   "cell_type": "code",
   "execution_count": 0,
   "metadata": {
    "application/vnd.databricks.v1+cell": {
     "cellMetadata": {},
     "inputWidgets": {},
     "nuid": "713245c1-26d2-4b1e-915e-d0138f1f73bb",
     "showTitle": false,
     "tableResultSettingsMap": {},
     "title": ""
    }
   },
   "outputs": [],
   "source": []
  }
 ],
 "metadata": {
  "application/vnd.databricks.v1+notebook": {
   "computePreferences": null,
   "dashboards": [],
   "environmentMetadata": {
    "base_environment": "",
    "environment_version": "2"
   },
   "inputWidgetPreferences": null,
   "language": "python",
   "notebookMetadata": {
    "mostRecentlyExecutedCommandWithImplicitDF": {
     "commandId": 7134355471391072,
     "dataframes": [
      "_sqldf"
     ]
    },
    "pythonIndentUnit": 4
   },
   "notebookName": "Execute SP",
   "widgets": {}
  },
  "language_info": {
   "name": "python"
  }
 },
 "nbformat": 4,
 "nbformat_minor": 0
}
