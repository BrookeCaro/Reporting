{
 "cells": [
  {
   "cell_type": "code",
   "execution_count": 0,
   "metadata": {
    "application/vnd.databricks.v1+cell": {
     "cellMetadata": {},
     "inputWidgets": {},
     "nuid": "2168a36b-7268-4475-8fd8-a3314cc3e470",
     "showTitle": false,
     "tableResultSettingsMap": {},
     "title": ""
    }
   },
   "outputs": [],
   "source": [
    "driver=\"com.microsoft.sqlserver.jdbc.SQLServerDriver\"\n",
    "database_host=\"sqldb-prod-east.database.windows.net\"\n",
    "database_port=\"1433\"\n",
    "database_name=\"db_Mars\"\n",
    "\n",
    "connection_properties = {\n",
    "    \"user\": \"marssqladmin\",\n",
    "    \"password\": \"2FQdcntxIIx$RoPQz21y\",\n",
    "    \"driver\": \"com.microsoft.sqlserver.jdbc.SQLServerDriver\"\n",
    "}\n",
    "url = f\"jdbc:sqlserver://{database_host}:{database_port};database={database_name}\""
   ]
  },
  {
   "cell_type": "markdown",
   "metadata": {
    "application/vnd.databricks.v1+cell": {
     "cellMetadata": {},
     "inputWidgets": {},
     "nuid": "5383057c-9ba6-4dbb-ac68-8a70c03e0700",
     "showTitle": false,
     "tableResultSettingsMap": {},
     "title": ""
    }
   },
   "source": [
    "Bring over updated sql staging_cdc.stg_... tables from db_mars"
   ]
  },
  {
   "cell_type": "code",
   "execution_count": 0,
   "metadata": {
    "application/vnd.databricks.v1+cell": {
     "cellMetadata": {},
     "inputWidgets": {},
     "nuid": "71244364-2876-4577-9265-b967d2084874",
     "showTitle": false,
     "tableResultSettingsMap": {},
     "title": ""
    }
   },
   "outputs": [],
   "source": [
    "def load_staging(cfg):\n",
    "    \"\"\"\n",
    "    Reads the SQL CDC staging table and writes it out to the databricks staging table of that capture instance\n",
    "    \"\"\"\n",
    "    df = (\n",
    "      spark.read\n",
    "           .jdbc(url=url,\n",
    "                 table=cfg.Sql_SourceStagingTable,\n",
    "                 properties=connection_properties)\n",
    "    )\n",
    "    (df.write\n",
    "       .format(\"delta\")\n",
    "       .mode(\"overwrite\")\n",
    "       .option(\"overwriteSchema\", \"true\")\n",
    "       .saveAsTable(cfg.StagingTable)\n",
    "    )\n",
    "    print(f\" Loaded staging table {cfg.StagingTable}\")\n"
   ]
  },
  {
   "cell_type": "markdown",
   "metadata": {
    "application/vnd.databricks.v1+cell": {
     "cellMetadata": {},
     "inputWidgets": {},
     "nuid": "61250a2a-9795-428f-8793-0f00480001b3",
     "showTitle": false,
     "tableResultSettingsMap": {},
     "title": ""
    }
   },
   "source": [
    "Apply Updates to bronze tables"
   ]
  },
  {
   "cell_type": "code",
   "execution_count": 0,
   "metadata": {
    "application/vnd.databricks.v1+cell": {
     "cellMetadata": {},
     "inputWidgets": {},
     "nuid": "32a212bd-d836-4091-a107-0de669384322",
     "showTitle": false,
     "tableResultSettingsMap": {},
     "title": ""
    }
   },
   "outputs": [],
   "source": [
    "from pyspark.sql import Row\n",
    "\n",
    "def apply_cdc(cfg: Row):\n",
    "    \"\"\"\n",
    "    Given one row of Test_CDC_Staging_Config, run MERGE+DELETE to keep bronze Destination in sync with azure sql source tables.\n",
    "    \"\"\"\n",
    "    sql_staging = cfg.Sql_SourceStagingTable\n",
    "    staging = cfg.StagingTable\n",
    "    target  = cfg.DestinationTable\n",
    "    cols    = [c.strip() for c in cfg.ColumnList.split(\",\")]\n",
    "    pk      = cols[0]\n",
    "\n",
    "    update_set = \",\\n        \".join(f\"{c} = src.{c}\" for c in cols)\n",
    "    insert_cols = \", \".join(cols)\n",
    "    insert_vals = \", \".join(f\"src.{c}\" for c in cols)\n",
    "\n",
    "    merge_sql = f\"\"\"\n",
    "    MERGE INTO {target} AS tgt\n",
    "    USING (\n",
    "      SELECT * FROM {staging} WHERE OperationCode IN (2,4)\n",
    "    ) AS src\n",
    "      ON tgt.{pk} = src.{pk}\n",
    "\n",
    "    WHEN MATCHED THEN\n",
    "      UPDATE SET\n",
    "        {update_set}\n",
    "\n",
    "    WHEN NOT MATCHED THEN\n",
    "      INSERT ({insert_cols})\n",
    "      VALUES ({insert_vals})\n",
    "    \"\"\"\n",
    "\n",
    "    delete_sql = f\"\"\"\n",
    "    DELETE FROM {target}\n",
    "    WHERE {pk} IN (\n",
    "      SELECT {pk} FROM {staging} WHERE OperationCode = 1\n",
    "    )\n",
    "    \"\"\"\n",
    "\n",
    "    spark.sql(merge_sql)\n",
    "    spark.sql(delete_sql)\n",
    "    print(f\"synced {target}\")\n"
   ]
  },
  {
   "cell_type": "markdown",
   "metadata": {
    "application/vnd.databricks.v1+cell": {
     "cellMetadata": {},
     "inputWidgets": {},
     "nuid": "681bc003-90d7-4bd4-b6e0-66ffc93f74ba",
     "showTitle": false,
     "tableResultSettingsMap": {},
     "title": ""
    }
   },
   "source": [
    "Run functions to bring over staging data and merge"
   ]
  },
  {
   "cell_type": "code",
   "execution_count": 0,
   "metadata": {
    "application/vnd.databricks.v1+cell": {
     "cellMetadata": {},
     "inputWidgets": {},
     "nuid": "db2d3717-94a0-4a03-9679-d16c7f4253fe",
     "showTitle": false,
     "tableResultSettingsMap": {},
     "title": ""
    }
   },
   "outputs": [],
   "source": [
    "#cfg_df = spark.table(\"staging_cdc.pipeline_config\").filter(\"IsActive\")\n",
    "#for cfg in cfg_df.collect():\n",
    "    #load_staging(cfg)\n",
    "    #apply_cdc(cfg)"
   ]
  }
 ],
 "metadata": {
  "application/vnd.databricks.v1+notebook": {
   "computePreferences": null,
   "dashboards": [],
   "environmentMetadata": {
    "base_environment": "",
    "environment_version": "2"
   },
   "inputWidgetPreferences": null,
   "language": "python",
   "notebookMetadata": {
    "pythonIndentUnit": 4
   },
   "notebookName": "Sql Staging to Db Staging",
   "widgets": {}
  },
  "language_info": {
   "name": "python"
  }
 },
 "nbformat": 4,
 "nbformat_minor": 0
}
