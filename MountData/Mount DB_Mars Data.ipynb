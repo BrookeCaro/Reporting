{
 "cells": [
  {
   "cell_type": "markdown",
   "metadata": {
    "application/vnd.databricks.v1+cell": {
     "cellMetadata": {},
     "inputWidgets": {},
     "nuid": "50af1877-72df-4660-93fd-fe40625bdb40",
     "showTitle": false,
     "tableResultSettingsMap": {},
     "title": ""
    }
   },
   "source": [
    "**Database Connection Info**"
   ]
  },
  {
   "cell_type": "code",
   "execution_count": 0,
   "metadata": {
    "application/vnd.databricks.v1+cell": {
     "cellMetadata": {
      "byteLimit": 2048000,
      "rowLimit": 10000
     },
     "inputWidgets": {},
     "nuid": "e82a4e97-0875-4b60-9c70-25e922939566",
     "showTitle": false,
     "tableResultSettingsMap": {},
     "title": ""
    }
   },
   "outputs": [],
   "source": [
    "driver=\"com.microsoft.sqlserver.jdbc.SQLServerDriver\"\n",
    "database_host=\"sqldb-prod-east.database.windows.net\"\n",
    "database_port=\"1433\"\n",
    "database_name=\"db_mars\"\n",
    "table_names= [\"tb_am_Agencies\",\"tb_am_AgencyAddresses\",\"tb_dm_Document\",\"tb_dm_File\", \"tb_dm_FilePolicies\",\"tb_dm_WorkflowHistory\",\"tb_dm_WorkflowHistoryTasks\",\"tb_dm_Workflows\",\"tb_dm_WorkflowSteps\",\"tb_shared_BusinessUnits\",\"tb_shared_Companies\", \"tb_shared_Divisions\",\"tb_shared_Users\", \"tb_shared_Regions\",\"tb_shared_departments\"]\n",
    "cdc_tablenames=[]\n",
    "database_user=\"marssqladmin\"\n",
    "database_password= \"2FQdcntxIIx$RoPQz21y\"\n",
    "url = f\"jdbc:sqlserver://{database_host}:{database_port};database={database_name}\""
   ]
  },
  {
   "cell_type": "markdown",
   "metadata": {
    "application/vnd.databricks.v1+cell": {
     "cellMetadata": {},
     "inputWidgets": {},
     "nuid": "4098451f-2f00-4680-a4f6-186797b34d43",
     "showTitle": false,
     "tableResultSettingsMap": {},
     "title": ""
    }
   },
   "source": [
    "Create JBDC Tables If Not Exists"
   ]
  },
  {
   "cell_type": "code",
   "execution_count": 0,
   "metadata": {
    "application/vnd.databricks.v1+cell": {
     "cellMetadata": {
      "byteLimit": 2048000,
      "rowLimit": 10000
     },
     "inputWidgets": {},
     "nuid": "9af58023-b66c-409b-928f-52129dac992d",
     "showTitle": false,
     "tableResultSettingsMap": {},
     "title": ""
    }
   },
   "outputs": [],
   "source": [
    "createQueries=[]\n",
    "for i in table_names:\n",
    "    createQueries.append('''Create Table if not exists db_mars.{0}\n",
    "using org.apache.spark.sql.jdbc\n",
    "options(\n",
    "        url \"{1}\",\n",
    "        dbtable \"{2}\",\n",
    "        user \"{3}\",\n",
    "        password \"{4}\",\n",
    "        loginTimeout=120\n",
    ")\n",
    "'''.format(i,url,i, database_user, database_password))\n",
    "    \n",
    "for i in createQueries:\n",
    "    spark.sql(i)"
   ]
  },
  {
   "cell_type": "markdown",
   "metadata": {
    "application/vnd.databricks.v1+cell": {
     "cellMetadata": {},
     "inputWidgets": {},
     "nuid": "89d75cca-c79b-4c10-9c0d-26f18e0e0b69",
     "showTitle": false,
     "tableResultSettingsMap": {},
     "title": ""
    }
   },
   "source": [
    "**Create Spark Tables** \n",
    "(allow for local storage, better processing, and less expensive querying on Azure SQL DB)"
   ]
  },
  {
   "cell_type": "code",
   "execution_count": 0,
   "metadata": {
    "application/vnd.databricks.v1+cell": {
     "cellMetadata": {
      "byteLimit": 2048000,
      "rowLimit": 10000
     },
     "inputWidgets": {},
     "nuid": "694e32f7-cbc0-4264-b47d-4a20332a2d57",
     "showTitle": false,
     "tableResultSettingsMap": {},
     "title": ""
    }
   },
   "outputs": [],
   "source": [
    "\n",
    "createSparkQueries=[]\n",
    "for i in table_names:\n",
    "    createSparkQueries.append('''create table bronze.{0}_spark as select * from db_mars.{0}'''.format(i))\n",
    "\n",
    "for i in createSparkQueries:\n",
    "    spark.sql(i)"
   ]
  },
  {
   "cell_type": "markdown",
   "metadata": {
    "application/vnd.databricks.v1+cell": {
     "cellMetadata": {},
     "inputWidgets": {},
     "nuid": "0d749c1b-d455-4b12-89d8-2ccf45c5b6b6",
     "showTitle": false,
     "tableResultSettingsMap": {},
     "title": ""
    }
   },
   "source": []
  }
 ],
 "metadata": {
  "application/vnd.databricks.v1+notebook": {
   "computePreferences": null,
   "dashboards": [],
   "environmentMetadata": {
    "base_environment": "",
    "environment_version": "2"
   },
   "inputWidgetPreferences": null,
   "language": "python",
   "notebookMetadata": {
    "mostRecentlyExecutedCommandWithImplicitDF": {
     "commandId": 8193988092785164,
     "dataframes": [
      "_sqldf"
     ]
    },
    "pythonIndentUnit": 4
   },
   "notebookName": "Mount DB_Mars Data",
   "widgets": {}
  },
  "language_info": {
   "name": "python"
  }
 },
 "nbformat": 4,
 "nbformat_minor": 0
}
