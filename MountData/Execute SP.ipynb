{
 "cells": [
  {
   "cell_type": "markdown",
   "metadata": {
    "application/vnd.databricks.v1+cell": {
     "cellMetadata": {},
     "inputWidgets": {},
     "nuid": "c0e1097d-0453-47f7-be34-35f4fd8ac17a",
     "showTitle": false,
     "tableResultSettingsMap": {},
     "title": ""
    }
   },
   "source": [
    " Connection Info"
   ]
  },
  {
   "cell_type": "code",
   "execution_count": 0,
   "metadata": {
    "application/vnd.databricks.v1+cell": {
     "cellMetadata": {
      "byteLimit": 2048000,
      "rowLimit": 10000
     },
     "inputWidgets": {},
     "nuid": "56e5e783-3149-4bc6-93f9-65db91aeffc6",
     "showTitle": false,
     "tableResultSettingsMap": {},
     "title": ""
    }
   },
   "outputs": [],
   "source": [
    "driver=\"com.microsoft.sqlserver.jdbc.SQLServerDriver\"\n",
    "database_host=\"sqldb-reporting-prod-east.database.windows.net\"\n",
    "database_port=\"1433\"\n",
    "database_name=\"mars_reporting_db\"\n",
    "table_names= [\"tb_am_Agencies\",\"tb_am_AgencyAddresses\",\"tb_dm_Document\",\"tb_dm_File\", \"tb_dm_FilePolicies\",\"tb_dm_WorkflowHistory\",\"tb_dm_WorkflowHistoryTasks\",\"tb_dm_Workflows\",\"tb_dm_WorkflowSteps\",\"tb_shared_BusinessUnits\",\"tb_shared_Companies\", \"tb_shared_Divisions\",\"tb_shared_Users\", \"tb_shared_Regions\"]\n",
    "database_user=\"marssqladmin\"\n",
    "database_password= \"2FQdcntxIIx$RoPQz21y\"\n",
    "url = f\"jdbc:sqlserver://{database_host}:{database_port};database={database_name}\""
   ]
  },
  {
   "cell_type": "code",
   "execution_count": 0,
   "metadata": {
    "application/vnd.databricks.v1+cell": {
     "cellMetadata": {
      "byteLimit": 2048000,
      "rowLimit": 10000
     },
     "inputWidgets": {},
     "nuid": "f70eb6a8-2045-4739-9a96-d780210887d0",
     "showTitle": false,
     "tableResultSettingsMap": {},
     "title": ""
    }
   },
   "outputs": [],
   "source": [
    "\n",
    "##This code attempted to run the SP in azure sql db and produced the  same error as what was in ssms. Seems to successfully connect to the SP and trigger it, but is hitting an error. Try again later when we get sps cleaned up\n",
    "\n",
    "query = \"EXEC [dbo].[sp_update_FakeTest_CDC_Staging]\"\n",
    "\n",
    "\n",
    "jdbc_db = (spark.read\n",
    "          .format(\"jdbc\")\n",
    "          .option(\"driver\", driver)\n",
    "          .option(\"url\", url)\n",
    "          .option(\"query\", query)\n",
    "          .option(\"user\", database_user)\n",
    "          .option(\"password\", database_password)\n",
    "          .load()\n",
    "          )\n",
    "\n",
    "driver_manager = spark._sc._gateway.jvm.java.sql.DriverManager\n",
    "connection = driver_manager.getConnection(url, database_user, database_password)\n",
    "connection.prepareCall(\"EXEC dbo.sp_update_FakeTest_CDC_Staging\").execute()\n",
    "connection.close()\n"
   ]
  },
  {
   "cell_type": "markdown",
   "metadata": {
    "application/vnd.databricks.v1+cell": {
     "cellMetadata": {},
     "inputWidgets": {},
     "nuid": "d93eebce-37c4-4ea6-98fb-c8c2ee2ee59f",
     "showTitle": false,
     "tableResultSettingsMap": {},
     "title": ""
    }
   },
   "source": [
    "Create and Run Create table statements for all tables in the list"
   ]
  },
  {
   "cell_type": "markdown",
   "metadata": {
    "application/vnd.databricks.v1+cell": {
     "cellMetadata": {},
     "inputWidgets": {},
     "nuid": "b8cd5626-aa8d-4dc2-a323-62693ced0281",
     "showTitle": false,
     "tableResultSettingsMap": {},
     "title": ""
    }
   },
   "source": [
    "Apply Updates to bronze tables"
   ]
  }
 ],
 "metadata": {
  "application/vnd.databricks.v1+notebook": {
   "computePreferences": null,
   "dashboards": [],
   "environmentMetadata": {
    "base_environment": "",
    "environment_version": "2"
   },
   "inputWidgetPreferences": null,
   "language": "python",
   "notebookMetadata": {
    "mostRecentlyExecutedCommandWithImplicitDF": {
     "commandId": 7262727007063267,
     "dataframes": [
      "_sqldf"
     ]
    },
    "pythonIndentUnit": 4
   },
   "notebookName": "Execute SP",
   "widgets": {}
  },
  "language_info": {
   "name": "python"
  }
 },
 "nbformat": 4,
 "nbformat_minor": 0
}
