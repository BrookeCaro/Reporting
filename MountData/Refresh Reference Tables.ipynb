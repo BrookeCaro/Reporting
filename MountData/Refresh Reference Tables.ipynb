{
 "cells": [
  {
   "cell_type": "markdown",
   "metadata": {
    "application/vnd.databricks.v1+cell": {
     "cellMetadata": {},
     "inputWidgets": {},
     "nuid": "ebb4c941-8b90-41b5-b21b-51456aefbb9a",
     "showTitle": false,
     "tableResultSettingsMap": {},
     "title": ""
    }
   },
   "source": [
    "## Create Reference Tables for Filters"
   ]
  },
  {
   "cell_type": "markdown",
   "metadata": {
    "application/vnd.databricks.v1+cell": {
     "cellMetadata": {},
     "inputWidgets": {},
     "nuid": "594fda4f-1bee-4580-b428-79654c7d7d97",
     "showTitle": false,
     "tableResultSettingsMap": {},
     "title": ""
    }
   },
   "source": [
    "Refresh Production Department Reference Table"
   ]
  },
  {
   "cell_type": "code",
   "execution_count": 0,
   "metadata": {
    "application/vnd.databricks.v1+cell": {
     "cellMetadata": {
      "byteLimit": 2048000,
      "implicitDf": true,
      "rowLimit": 10000
     },
     "inputWidgets": {},
     "nuid": "8f8e91fb-3645-4f14-b188-8042ff8bb466",
     "showTitle": false,
     "tableResultSettingsMap": {},
     "title": ""
    }
   },
   "outputs": [],
   "source": [
    "%sql\n",
    "truncate table reference.productionDepartment;\n",
    "\n",
    "insert into reference.productionDepartment \n",
    "select distinct\n",
    "  case when gold.workflow.productionDepartmentID is null or gold.workflow.productionDepartmentID='0' \n",
    "  then 'ERROR' \n",
    "  else gold.workflow.productionDepartmentID end as productionDepartmentID, \n",
    "  coalesce(departmentName,'ERROR') as productionDepartmentName\n",
    "from gold.workflow\n",
    "left join bronze.tb_shared_departments_spark pd\n",
    "on gold.workflow.ProductionDepartmentID  = pd.DepartmentID;\n",
    "\n",
    "INSERT INTO reference.productionDepartment(productionDepartmentID, productionDepartmentName) VALUES('All', 'All')"
   ]
  },
  {
   "cell_type": "markdown",
   "metadata": {
    "application/vnd.databricks.v1+cell": {
     "cellMetadata": {},
     "inputWidgets": {},
     "nuid": "a099a678-c126-4a1b-8a3d-d548f3c88185",
     "showTitle": false,
     "tableResultSettingsMap": {},
     "title": ""
    }
   },
   "source": [
    "Refresh Responsible Department Reference Table"
   ]
  },
  {
   "cell_type": "code",
   "execution_count": 0,
   "metadata": {
    "application/vnd.databricks.v1+cell": {
     "cellMetadata": {
      "byteLimit": 2048000,
      "implicitDf": true,
      "rowLimit": 10000
     },
     "inputWidgets": {},
     "nuid": "b6317853-08eb-4024-a53e-5c59303d52e1",
     "showTitle": false,
     "tableResultSettingsMap": {},
     "title": ""
    }
   },
   "outputs": [],
   "source": [
    "%sql\n",
    "truncate table reference.productionDepartment;\n",
    "\n",
    "insert into reference.responsibleDepartment\n",
    "select distinct\n",
    "  case when gold.workflow.responsibleDepartmentID is null or gold.workflow.responsibleDepartmentID='0' \n",
    "  then 'ERROR' \n",
    "  else gold.workflow.responsibleDepartmentID end as responsibleDepartmentID, \n",
    "  coalesce(departmentName,'ERROR') as responsibleDepartmentName\n",
    "from gold.workflow\n",
    "left join bronze.tb_shared_departments_spark on\n",
    "gold.workflow.ResponsibleDepartmentId = bronze.tb_shared_departments_spark.DepartmentId;\n",
    "\n",
    "INSERT INTO reference.responsibleDepartment(responsibleDepartmentID, responsibleDepartmentName) VALUES('All', 'All')\n"
   ]
  },
  {
   "cell_type": "markdown",
   "metadata": {
    "application/vnd.databricks.v1+cell": {
     "cellMetadata": {},
     "inputWidgets": {},
     "nuid": "eb699663-e515-4fd8-beb3-bd9188b4f77a",
     "showTitle": false,
     "tableResultSettingsMap": {},
     "title": ""
    }
   },
   "source": [
    "Refresh Business Unit Reference Table"
   ]
  },
  {
   "cell_type": "code",
   "execution_count": 0,
   "metadata": {
    "application/vnd.databricks.v1+cell": {
     "cellMetadata": {
      "byteLimit": 2048000,
      "implicitDf": true,
      "rowLimit": 10000
     },
     "inputWidgets": {},
     "nuid": "c80c512e-2735-4218-afbc-e59d7ba61626",
     "showTitle": false,
     "tableResultSettingsMap": {},
     "title": ""
    }
   },
   "outputs": [],
   "source": [
    "%sql\n",
    "truncate table reference.businessUnit;\n",
    "\n",
    "insert into reference.businessunit\n",
    " select distinct coalesce(cast(id as string),'ERROR'), coalesce(businessunit,'ERROR')\n",
    "from bronze.tb_shared_businessunits_spark;\n",
    "\n",
    "insert into reference.businessunit values('All','All');"
   ]
  },
  {
   "cell_type": "markdown",
   "metadata": {
    "application/vnd.databricks.v1+cell": {
     "cellMetadata": {},
     "inputWidgets": {},
     "nuid": "35997311-ce7f-465a-baf9-789516fe465b",
     "showTitle": false,
     "tableResultSettingsMap": {},
     "title": ""
    }
   },
   "source": [
    "Refresh Divison Reference Table"
   ]
  },
  {
   "cell_type": "code",
   "execution_count": 0,
   "metadata": {
    "application/vnd.databricks.v1+cell": {
     "cellMetadata": {
      "byteLimit": 2048000,
      "implicitDf": true,
      "rowLimit": 10000
     },
     "inputWidgets": {},
     "nuid": "b16a4713-8c2e-48d3-918b-4817eb4cb4f1",
     "showTitle": false,
     "tableResultSettingsMap": {},
     "title": ""
    }
   },
   "outputs": [],
   "source": [
    "%sql\n",
    "truncate table reference.division;\n",
    "\n",
    "insert into reference.division \n",
    " select distinct coalesce(cast(divisionid as string),'ERROR'), coalesce(division,'ERROR')\n",
    "from bronze.tb_shared_divisions_spark;\n",
    "\n",
    "insert into reference.division values('All','All');\n"
   ]
  },
  {
   "cell_type": "markdown",
   "metadata": {
    "application/vnd.databricks.v1+cell": {
     "cellMetadata": {},
     "inputWidgets": {},
     "nuid": "edf5fb83-14a4-411d-abc9-70d37a1e96ab",
     "showTitle": false,
     "tableResultSettingsMap": {},
     "title": ""
    }
   },
   "source": [
    "Refresh Worfklow Reference Table"
   ]
  },
  {
   "cell_type": "code",
   "execution_count": 0,
   "metadata": {
    "application/vnd.databricks.v1+cell": {
     "cellMetadata": {
      "byteLimit": 2048000,
      "implicitDf": true,
      "rowLimit": 10000
     },
     "inputWidgets": {},
     "nuid": "694df3fa-212b-4d5a-8b20-1520625226c3",
     "showTitle": false,
     "tableResultSettingsMap": {},
     "title": ""
    }
   },
   "outputs": [],
   "source": [
    "%sql\n",
    "truncate table reference.workflow;\n",
    "\n",
    "insert into reference.workflow \n",
    "select distinct coalesce(cast(workflowid as string),'ERROR'), coalesce(workflowname,'ERROR') from bronze.tb_dm_workflows_spark;\n",
    "\n",
    "insert into reference.workflow values('All','All');\n"
   ]
  },
  {
   "cell_type": "markdown",
   "metadata": {
    "application/vnd.databricks.v1+cell": {
     "cellMetadata": {},
     "inputWidgets": {},
     "nuid": "b5589263-31b3-4f11-9592-298e8966d72e",
     "showTitle": false,
     "tableResultSettingsMap": {},
     "title": ""
    }
   },
   "source": [
    "Refresh Workflow Steps Reference Table"
   ]
  },
  {
   "cell_type": "code",
   "execution_count": 0,
   "metadata": {
    "application/vnd.databricks.v1+cell": {
     "cellMetadata": {
      "byteLimit": 2048000,
      "implicitDf": true,
      "rowLimit": 10000
     },
     "inputWidgets": {},
     "nuid": "7d141e92-1c6e-405d-a6c2-07edadc0224a",
     "showTitle": false,
     "tableResultSettingsMap": {},
     "title": ""
    }
   },
   "outputs": [],
   "source": [
    "%sql\n",
    "truncate table reference.workflowSteps;\n",
    "\n",
    "insert into reference.workflowSteps \n",
    "\n",
    "select distinct coalesce(cast(w.workflowid as string),'ERROR'), coalesce(w.workflowname,'ERROR'), coalesce(cast(ws.workflowstepid as string),'ERROR'), coalesce(ws.stepname, 'ERROR')\n",
    "from bronze.tb_dm_workflows_spark w\n",
    "left join bronze.tb_dm_workflowsteps_spark ws\n",
    "on w.WorkflowID = ws.WorkflowID;\n",
    "\n",
    "insert into reference.workflowSteps values('All','All','All','All');\n",
    "\n",
    "\n"
   ]
  },
  {
   "cell_type": "markdown",
   "metadata": {
    "application/vnd.databricks.v1+cell": {
     "cellMetadata": {},
     "inputWidgets": {},
     "nuid": "ab491a5c-8a2a-4abc-89c3-acc3759d3c0f",
     "showTitle": false,
     "tableResultSettingsMap": {},
     "title": ""
    }
   },
   "source": [
    "Refresh Company Reference Table"
   ]
  },
  {
   "cell_type": "code",
   "execution_count": 0,
   "metadata": {
    "application/vnd.databricks.v1+cell": {
     "cellMetadata": {
      "byteLimit": 2048000,
      "implicitDf": true,
      "rowLimit": 10000
     },
     "inputWidgets": {},
     "nuid": "b9eb6c80-8780-4ef8-88a2-ea877349d95d",
     "showTitle": false,
     "tableResultSettingsMap": {},
     "title": ""
    }
   },
   "outputs": [],
   "source": [
    "%sql\n",
    "truncate table reference.company;\n",
    "\n",
    "insert into reference.company \n",
    "select distinct coalesce(cast(companyid as string),'ERROR'), coalesce(companyname,'ERROR')\n",
    "from gold.workflow\n",
    ";\n",
    "\n",
    "insert into reference.company values('All','All');\n"
   ]
  },
  {
   "cell_type": "markdown",
   "metadata": {
    "application/vnd.databricks.v1+cell": {
     "cellMetadata": {},
     "inputWidgets": {},
     "nuid": "03bec95d-f5f4-4652-89cc-b29369f63d07",
     "showTitle": false,
     "tableResultSettingsMap": {},
     "title": ""
    }
   },
   "source": [
    "Refresh Agency State Reference Table"
   ]
  },
  {
   "cell_type": "code",
   "execution_count": 0,
   "metadata": {
    "application/vnd.databricks.v1+cell": {
     "cellMetadata": {
      "byteLimit": 2048000,
      "implicitDf": true,
      "rowLimit": 10000
     },
     "inputWidgets": {},
     "nuid": "a9a3c304-d753-42ba-8f98-d338324f3eb1",
     "showTitle": false,
     "tableResultSettingsMap": {},
     "title": ""
    }
   },
   "outputs": [],
   "source": [
    "%sql\n",
    "truncate table reference.agencyState;\n",
    "\n",
    "insert into reference.agencyState \n",
    "select distinct coalesce(state,'ERROR') as state from bronze.tb_shared_states_spark;\n",
    "\n",
    "insert into reference.agencyState values('All');"
   ]
  },
  {
   "cell_type": "markdown",
   "metadata": {
    "application/vnd.databricks.v1+cell": {
     "cellMetadata": {},
     "inputWidgets": {},
     "nuid": "b4a82299-3bd6-4ca6-9766-7fd86ac34241",
     "showTitle": false,
     "tableResultSettingsMap": {},
     "title": ""
    }
   },
   "source": [
    "Refresh Agency Region Reference Table"
   ]
  },
  {
   "cell_type": "code",
   "execution_count": 0,
   "metadata": {
    "application/vnd.databricks.v1+cell": {
     "cellMetadata": {
      "byteLimit": 2048000,
      "implicitDf": true,
      "rowLimit": 10000
     },
     "inputWidgets": {},
     "nuid": "5a84db66-c7f0-4b02-8437-9fbeb9bb91b5",
     "showTitle": false,
     "tableResultSettingsMap": {},
     "title": ""
    }
   },
   "outputs": [],
   "source": [
    "%sql\n",
    "truncate table reference.agencyRegion;\n",
    "\n",
    "insert into reference.agencyRegion\n",
    "select distinct coalesce(cast(regionid as string),'ERROR') as agencyRegionID, coalesce(regionname,'ERROR') as regionName \n",
    "from bronze.tb_shared_regions_spark;\n",
    "\n",
    "insert into reference.agencyRegion values('All','All');"
   ]
  },
  {
   "cell_type": "markdown",
   "metadata": {
    "application/vnd.databricks.v1+cell": {
     "cellMetadata": {},
     "inputWidgets": {},
     "nuid": "61d5dd0b-1cbf-44d8-aa38-ab03adb9e1c2",
     "showTitle": false,
     "tableResultSettingsMap": {},
     "title": ""
    }
   },
   "source": [
    "Refresh CompletedStatus Reference Table"
   ]
  },
  {
   "cell_type": "code",
   "execution_count": 0,
   "metadata": {
    "application/vnd.databricks.v1+cell": {
     "cellMetadata": {
      "byteLimit": 2048000,
      "implicitDf": true,
      "rowLimit": 10000
     },
     "inputWidgets": {},
     "nuid": "140962a1-5e61-41b5-9817-be0a24b28679",
     "showTitle": false,
     "tableResultSettingsMap": {},
     "title": ""
    }
   },
   "outputs": [],
   "source": [
    "%sql\n",
    "truncate table reference.completedStatus;\n",
    "\n",
    "insert into reference.completedstatus\n",
    "select distinct coalesce(completedStatus,'ERROR') from gold.workflow;\n",
    "\n",
    "insert into reference.completedStatus values('All');"
   ]
  }
 ],
 "metadata": {
  "application/vnd.databricks.v1+notebook": {
   "computePreferences": null,
   "dashboards": [],
   "environmentMetadata": {
    "base_environment": "",
    "environment_version": "2"
   },
   "inputWidgetPreferences": null,
   "language": "python",
   "notebookMetadata": {
    "mostRecentlyExecutedCommandWithImplicitDF": {
     "commandId": 4744809846185715,
     "dataframes": [
      "_sqldf"
     ]
    },
    "pythonIndentUnit": 4
   },
   "notebookName": "Refresh Reference Tables",
   "widgets": {}
  },
  "language_info": {
   "name": "python"
  }
 },
 "nbformat": 4,
 "nbformat_minor": 0
}
