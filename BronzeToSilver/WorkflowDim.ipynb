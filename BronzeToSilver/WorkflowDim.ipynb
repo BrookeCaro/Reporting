{
 "cells": [
  {
   "cell_type": "markdown",
   "metadata": {
    "application/vnd.databricks.v1+cell": {
     "cellMetadata": {},
     "inputWidgets": {},
     "nuid": "8e01f048-f501-4dab-9dfd-f2938c26af19",
     "showTitle": false,
     "tableResultSettingsMap": {},
     "title": ""
    }
   },
   "source": [
    "Get Dimension Data"
   ]
  },
  {
   "cell_type": "code",
   "execution_count": 0,
   "metadata": {
    "application/vnd.databricks.v1+cell": {
     "cellMetadata": {
      "byteLimit": 2048000,
      "implicitDf": true,
      "rowLimit": 10000
     },
     "inputWidgets": {},
     "nuid": "f2dfeb70-692c-4892-abe3-7589906cfb50",
     "showTitle": false,
     "tableResultSettingsMap": {},
     "title": ""
    }
   },
   "outputs": [],
   "source": [
    "%sql\n",
    "\n",
    "select\n",
    "f.FileNumber,\n",
    "wsteps.DepartmentType,\n",
    "fpol.CompanyID,\n",
    "c.CompanyName,\n",
    "w.WorkflowName,\n",
    "wsteps.StepName,\n",
    "r.RegionName,\n",
    "f.FileName,\n",
    "whtasks.TaskNote,\n",
    "whtasks.CompletedStatus,\n",
    "a.AgencyName,\n",
    "uu.FullName,\n",
    "COALESCE(whtasks.Locked, cast(0 as boolean)) as Locked\n",
    "\n",
    "--how else can we get f, fpol tables without joining through doc? doc is not used, and cannot be added directly, but must be joined through wh, another table that is not used. So by virtue of pulling f and fpol, we are currently joining two unncessary tables\n",
    "\n",
    "FROM bronze.tb_dm_workflowhistorytasks_spark whtasks\n",
    "INNER JOIN bronze.tb_dm_WorkflowHistory_spark as wh on wh.WorkflowHistoryId = whtasks.WorkflowHistoryId\n",
    "inner join bronze.tb_dm_WorkflowSteps_spark as wsteps on wsteps.WorkflowStepID = whtasks.WorkflowStepId\n",
    "LEFT JOIN bronze.tb_shared_users_spark as uu on uu.UserId = whtasks.AssignedToUserId\n",
    "INNER JOIN bronze.tb_dm_Document_spark as doc on doc.DocumentId = wh.DocumentId \n",
    "left join bronze.tb_dm_File_spark as f on f.FileId = doc.FileId\n",
    "LEFT JOIN bronze.tb_dm_FilePolicies_spark as fpol ON fpol.FilePolicyId = doc.FilePolicyId\n",
    "INNER JOIN bronze.tb_dm_Workflows_spark as w ON w.WorkflowID = wsteps.WorkflowId\n",
    "LEFT JOIN bronze.tb_am_Agencies_spark as a ON a.AgencyId = f.AgencyId\n",
    "LEFT JOIN bronze.tb_shared_Regions_spark as r ON r.RegionId = f.RegionId\n",
    "LEFT JOIN bronze.tb_shared_Companies_spark as c ON c.CompanyId = fpol.CompanyId;"
   ]
  }
 ],
 "metadata": {
  "application/vnd.databricks.v1+notebook": {
   "computePreferences": null,
   "dashboards": [],
   "environmentMetadata": {
    "base_environment": "",
    "environment_version": "2"
   },
   "inputWidgetPreferences": null,
   "language": "python",
   "notebookMetadata": {
    "mostRecentlyExecutedCommandWithImplicitDF": {
     "commandId": 8952405050353400,
     "dataframes": [
      "_sqldf"
     ]
    },
    "pythonIndentUnit": 4
   },
   "notebookName": "WorkflowDim",
   "widgets": {}
  },
  "language_info": {
   "name": "python"
  }
 },
 "nbformat": 4,
 "nbformat_minor": 0
}
