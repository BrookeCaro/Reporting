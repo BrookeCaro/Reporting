{
 "cells": [
  {
   "cell_type": "markdown",
   "metadata": {
    "application/vnd.databricks.v1+cell": {
     "cellMetadata": {},
     "inputWidgets": {},
     "nuid": "f2b1b325-c7fe-480b-b4ab-2cd42fccc741",
     "showTitle": false,
     "tableResultSettingsMap": {},
     "title": ""
    }
   },
   "source": [
    "Get Fact Data"
   ]
  },
  {
   "cell_type": "code",
   "execution_count": 0,
   "metadata": {
    "application/vnd.databricks.v1+cell": {
     "cellMetadata": {
      "byteLimit": 2048000,
      "implicitDf": true,
      "rowLimit": 10000
     },
     "inputWidgets": {},
     "nuid": "074d0090-284e-4a3e-ba1d-f7181f9f0748",
     "showTitle": false,
     "tableResultSettingsMap": {},
     "title": ""
    }
   },
   "outputs": [],
   "source": [
    "%sql\n",
    "\n",
    "drop table silver.workflowfact;\n",
    "\n",
    "create table silver.workflowfact as\n",
    "SELECT\n",
    "fpol.PolicyNumber\n",
    ",whtasks.WorkflowHistoryTaskId\n",
    ",whtasks.WorkflowHistoryId\n",
    ",f.FileId\n",
    ",doc.DocumentId\n",
    ",fpol.DepartmentId as fpolDepartmentID\n",
    ",cu.DepartmentID as cuDepartmentID\n",
    ",uu.DepartmentID as uuDepartmentID\n",
    ",wsteps.ResponsibleDepartmentId\n",
    ",fpol.CompanyID\n",
    ",fpol.EffectiveDate\n",
    ",fpol.ExpirationDate\n",
    ",whtasks.Initiated\n",
    ",wsteps.WorkflowID\n",
    ",wsteps.WorkflowStepID\n",
    ",whtasks.DueDate\n",
    ",whtasks.DueDateDate\n",
    ",f.AgencyContactId\n",
    ",f.RegionId\n",
    ",whtasks.CompletedDate\n",
    ",whtasks.Completed\n",
    ",f.AgencyId\n",
    ",whtasks.AssignedToUserId\n",
    ",whtasks.CompletedByUserId\n",
    ",wsteps.ExcludeFromMaster\n",
    ",whtasks.LastModified\n",
    ",f.deleted as fileDeleted\n",
    ",fpol.Deleted as fpolDeleted\n",
    ",doc.deleted as docDeleted,\n",
    "DATEDIFF(day, whtasks.Initiated,whtasks.Completed) AS DaysTakenToComplete\n",
    "\n",
    "\n",
    "FROM bronze.tb_dm_workflowhistorytasks_spark whtasks\n",
    "INNER JOIN bronze.tb_dm_WorkflowHistory_spark as wh on wh.WorkflowHistoryId = whtasks.WorkflowHistoryId\n",
    "INNER JOIN bronze.tb_dm_WorkflowSteps_spark as wsteps on wsteps.WorkflowStepID = whtasks.WorkflowStepId\n",
    "LEFT JOIN bronze.tb_shared_users_spark as uu on uu.UserId = whtasks.AssignedToUserId\n",
    "LEFT JOIN bronze.tb_shared_users_spark cu on cu.UserId = whtasks.CompletedByUserId\n",
    "INNER JOIN bronze.tb_dm_Document_spark as doc on doc.DocumentId = wh.DocumentId --Can we not get to document id through another table we are already pulling so we can drop wh?\n",
    "LEFT JOIN bronze.tb_dm_File_spark as f on f.FileId = doc.FileId\n",
    "LEFT JOIN bronze.tb_dm_FilePolicies_spark as fpol ON fpol.FilePolicyId = doc.FilePolicyId\n",
    "INNER JOIN bronze.tb_dm_Workflows_spark as w ON w.WorkflowID = wsteps.WorkflowId\n",
    "LEFT JOIN bronze.tb_am_Agencies_spark as a ON a.AgencyId = f.AgencyId\n",
    "LEFT JOIN bronze.tb_shared_Regions_spark as r ON r.RegionId = f.RegionId;"
   ]
  }
 ],
 "metadata": {
  "application/vnd.databricks.v1+notebook": {
   "computePreferences": null,
   "dashboards": [],
   "environmentMetadata": {
    "base_environment": "",
    "environment_version": "2"
   },
   "inputWidgetPreferences": null,
   "language": "python",
   "notebookMetadata": {
    "mostRecentlyExecutedCommandWithImplicitDF": {
     "commandId": 4579051553757248,
     "dataframes": [
      "_sqldf"
     ]
    },
    "pythonIndentUnit": 4
   },
   "notebookName": "WorkflowFact",
   "widgets": {}
  },
  "language_info": {
   "name": "python"
  }
 },
 "nbformat": 4,
 "nbformat_minor": 0
}
