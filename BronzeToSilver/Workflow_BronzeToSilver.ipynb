{
 "cells": [
  {
   "cell_type": "markdown",
   "metadata": {
    "application/vnd.databricks.v1+cell": {
     "cellMetadata": {},
     "inputWidgets": {},
     "nuid": "f2b1b325-c7fe-480b-b4ab-2cd42fccc741",
     "showTitle": false,
     "tableResultSettingsMap": {},
     "title": ""
    },
    "jupyter": {
     "outputs_hidden": true
    }
   },
   "source": [
    "Populate Silver.Workflow table with data"
   ]
  },
  {
   "cell_type": "code",
   "execution_count": 0,
   "metadata": {
    "application/vnd.databricks.v1+cell": {
     "cellMetadata": {
      "byteLimit": 2048000,
      "implicitDf": true,
      "rowLimit": 10000
     },
     "inputWidgets": {},
     "nuid": "074d0090-284e-4a3e-ba1d-f7181f9f0748",
     "showTitle": false,
     "tableResultSettingsMap": {},
     "title": ""
    }
   },
   "outputs": [],
   "source": [
    "%sql\n",
    "\n",
    "drop table silver.workflow;\n",
    "create table  silver.workflow as \n",
    "--Create and join CTEs to get the different values for the isMailing field (0,1) on a single record in order to perform a coalesce statement based on them since that is not possible if the values are on different records. \n",
    "\t\t\t\t--Context: occasionally there are records that have a different State ID based on the isMailing value, and these then tie to different regions. In order to get the correct region, we have to do a conditional join to the State table based on the isMailing value, prioritizing State value where isMailing is 0. The Regions table is then joined twice, once to get the region listed on the File, which may be different and is used in the coalesce as a back up value, and then again to get the region associated with the State.\n",
    "with isMailing0 as\n",
    "(select ismailing as isMailing0, agencyid as agencyid0, State as State0 from bronze.tb_am_AgencyAddresses_spark where ismailing =0),\n",
    "\n",
    "isMailing1 as\n",
    "(select ismailing as isMailing1, agencyid as agencyid1, State as State1 from bronze.tb_am_AgencyAddresses_spark where ismailing=1),\n",
    "\n",
    "joinIsMailing as\n",
    "(select * from ismailing0 full outer join ismailing1 on ismailing0.agencyid0=ismailing1.agencyid1)\n",
    "\n",
    "\n",
    "SELECT\n",
    "--Fact Data\n",
    "trim(fpol.PolicyNumber) as PolicyNumber\n",
    ",trim(whtasks.WorkflowHistoryTaskId) as workflowHistoryTaskID\n",
    ",trim(whtasks.WorkflowHistoryId) as workflowhistoryID\n",
    ",trim(f.FileId) as fileID\n",
    ",trim(doc.DocumentId) as documentID\n",
    ",trim(fpol.DepartmentId) as fpolDepartmentID\n",
    "--,trim(cu.DepartmentID) as cuDepartmentID\n",
    "--,trim(uu.DepartmentID) as uuDepartmentID\n",
    ",trim(fpol.CompanyID) as companyID\n",
    ",trim(fpol.EffectiveDate) as effectiveDate\n",
    ",trim(fpol.ExpirationDate) as expirationDate\n",
    ",trim(whtasks.Initiated) as initiated\n",
    ",trim(wsteps.WorkflowID) as workflowID\n",
    ",trim(wsteps.WorkflowStepID) as workflowStepID\n",
    ",trim(whtasks.DueDate) as dueDate\n",
    ",trim(whtasks.DueDateDate) as dueDateDate\n",
    ",trim(f.AgencyContactId) as agencyContactID\n",
    ",trim(sr.RegionId) as srRegionID\n",
    ",trim(r.RegionID) as fileRegionID\n",
    "--,trim(whtasks.CompletedDate) as completedDate\n",
    ",trim(whtasks.Completed) as completed\n",
    ",trim(f.AgencyId) as agencyID\n",
    ",trim(whtasks.AssignedToUserId) as assignedToUserID\n",
    ",trim(whtasks.CompletedByUserId) as completedByUserID\n",
    ",trim(wsteps.ExcludeFromMaster) as excludedFromMaster\n",
    ",trim(whtasks.LastModified) as lastModified\n",
    "--,trim(doc.Deleted) as docDeleted\n",
    "--,trim(fpol.Deleted) as fpolDeleted\n",
    "--,trim(f.Deleted) as fDeleted\n",
    "--Dim Data\n",
    ",trim(f.FileNumber) as fileNumber\n",
    ",trim(wsteps.DepartmentType) as departmentType\n",
    ",trim(c.CompanyName) as companyName\n",
    ",trim(w.WorkflowName) as workflowName\n",
    ",trim(wsteps.StepName) as stepName\n",
    ",trim(r.RegionName) as regionName --look into how this works when the fregion is different from the sr region\n",
    ",trim(f.FileName) as fileName\n",
    ",trim(whtasks.TaskNote) as taskNote\n",
    ",trim(whtasks.CompletedStatus) completedStatus\n",
    ",trim(a.AgencyName) as agencyName\n",
    ",trim(uu.FullName) as assignedToUserName\n",
    ",trim(cu.FullName) as completedByUserName\n",
    ",COALESCE(trim(whtasks.Locked), '0') as locked\n",
    ",trim(whtasks.CompletedType) as completedType\n",
    ",trim(ss.State) as agencyState \n",
    "--calculations\n",
    ",DATEDIFF(day, whtasks.Initiated,whtasks.Completed) AS DaysTakenToComplete\n",
    ",Case when whtasks.Completed is null AND DueDate > '2023-01-01 00:00:00.000'\n",
    "\t\t\t\tAND coalesce(doc.Deleted, fpol.Deleted, f.Deleted, cast(0 as boolean))=0\n",
    "\t\t\tthen 'Pending'\n",
    "\t\t\twhen whtasks.Completed is NOT null \n",
    "\t\t\t\tAND whtasks.Completed > '2024-01-01 00:00:00.000' \n",
    "\t\t\t\tAND whtasks.DueDate > '2023-01-01 00:00:00.000'\n",
    "\t\t\t\tAND coalesce(doc.Deleted, fpol.Deleted, f.Deleted, cast(0 as boolean))=0\n",
    "\t\t\t\tAND  CASE\n",
    "    \t\t\t\tWHEN whtasks.CompletedStatus = 'Task Updated' OR COALESCE(whtasks.CompletedType, '') != 'terminated' THEN 1\n",
    "    \t\t\t\tELSE 0\n",
    "  \t\t\t\t\tEND = 1\n",
    "\t\t\tthen 'Completed'\n",
    "\tend as CompletedOrPending\n",
    ",CASE \n",
    "\t\tWHEN whtasks.Completed IS NULL AND whtasks.DueDate < current_timestamp() THEN 'OSS' \n",
    "\t\tWHEN whtasks.Completed IS NULL AND whtasks.DueDate > current_timestamp() THEN 'Active' \n",
    "\t\tELSE NULL\n",
    "\t\tEND AS StandardStatus\n",
    "\n",
    ",CASE WHEN wsteps.WorkflowStepID = 60 THEN coalesce(uu.DepartmentID,cu.DepartmentID, fpol.DepartmentID)\n",
    "\t        ELSE CASE\n",
    "\t\t\t when whtasks.completed IS NOT NULL and\n",
    "                    case when wsteps.DepartmentType = 'assigneddepartment' THEN fpol.DepartmentID\n",
    "                    when wsteps.DepartmentType != 'assigneddepartment' then coalesce(wsteps.ResponsibleDepartmentId,fpol.DepartmentID) \n",
    "                    End is not null\n",
    "                then\n",
    "                    case when wsteps.DepartmentType = 'assigneddepartment' THEN fpol.DepartmentID\n",
    "                    when wsteps.DepartmentType != 'assigneddepartment' then coalesce(wsteps.ResponsibleDepartmentId,fpol.DepartmentID) \n",
    "                    End\n",
    "                end \n",
    "end as ResponsibleDepartmentId\n",
    "\n",
    " \n",
    "\n",
    "FROM bronze.tb_dm_workflowhistorytasks_spark as whtasks\n",
    "INNER JOIN bronze.tb_dm_WorkflowHistory_spark as wh on wh.WorkflowHistoryId = whtasks.WorkflowHistoryId\n",
    "INNER JOIN bronze.tb_dm_WorkflowSteps_spark as wsteps on wsteps.WorkflowStepID = whtasks.WorkflowStepId\n",
    "LEFT JOIN bronze.tb_shared_users_spark as uu on uu.UserId = whtasks.AssignedToUserId\n",
    "LEFT JOIN bronze.tb_shared_users_spark cu on cu.UserId = whtasks.CompletedByUserId\n",
    "INNER JOIN bronze.tb_dm_Document_spark as doc on doc.DocumentId = wh.DocumentId \n",
    "LEFT JOIN bronze.tb_dm_File_spark as f on f.FileId = doc.FileId\n",
    "LEFT JOIN bronze.tb_dm_FilePolicies_spark as fpol ON fpol.FilePolicyId = doc.FilePolicyId\n",
    "INNER JOIN bronze.tb_dm_Workflows_spark as w ON w.WorkflowID = wsteps.WorkflowId\n",
    "LEFT JOIN bronze.tb_am_Agencies_spark as a ON a.AgencyId = f.AgencyId\n",
    "LEFT JOIN joinIsMailing jim on jim.agencyid0= a.agencyid\n",
    "LEFT JOIN bronze.tb_shared_States_spark AS ss ON ss.State = \n",
    "                    case when coalesce(isMailing0, isMailing1)=0 then State0 else State1 end\n",
    "LEFT JOIN bronze.tb_shared_Regions_spark r ON r.RegionId = f.RegionId\n",
    "LEFT JOIN bronze.tb_shared_Regions_spark AS sr ON sr.RegionId = ss.RegionId \n",
    "LEFT JOIN bronze.tb_shared_Companies_spark as c ON c.CompanyId = fpol.CompanyId\n"
   ]
  }
 ],
 "metadata": {
  "application/vnd.databricks.v1+notebook": {
   "computePreferences": null,
   "dashboards": [],
   "environmentMetadata": {
    "base_environment": "",
    "environment_version": "2"
   },
   "inputWidgetPreferences": null,
   "language": "python",
   "notebookMetadata": {
    "mostRecentlyExecutedCommandWithImplicitDF": {
     "commandId": 4579051553757248,
     "dataframes": [
      "_sqldf"
     ]
    },
    "pythonIndentUnit": 4
   },
   "notebookName": "Workflow_BronzeToSilver",
   "widgets": {}
  },
  "language_info": {
   "name": "python"
  }
 },
 "nbformat": 4,
 "nbformat_minor": 0
}
